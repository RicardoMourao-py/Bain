{
 "cells": [
  {
   "cell_type": "markdown",
   "metadata": {
    "id": "eqRnCa94STdu"
   },
   "source": [
    "# Strategic Challenge 2022\n",
    "\n",
    "### Bain&Company\n",
    "\n",
    "\n"
   ]
  },
  {
   "cell_type": "markdown",
   "metadata": {
    "id": "NbCq_K65STU2"
   },
   "source": [
    "### Team Flat101\n",
    "### Authors:\n",
    "##### [Adney Costa](https://www.linkedin.com/in/adney-costa-moura-7310531b7/)\n",
    "##### [Matheus Oliveira](https://www.linkedin.com/in/matheusoliveira12/)\n",
    "##### [Nívea de Abreu](https://www.linkedin.com/in/niveaabreu/)\n",
    "##### [Ricardo Mourão](https://www.linkedin.com/in/ricardo-mour%C3%A3o-rodrigues-filho-0b75441b9/)"
   ]
  },
  {
   "cell_type": "markdown",
   "metadata": {
    "id": "ogKVa6FcSTHX"
   },
   "source": [
    "# Project Assigment\n",
    "\n",
    "The main goal of this Assignment is to create a model that predicts the land area destinated to the plantation of main\n",
    "agricultural crops and to pastures for livestock, in the state of Pará.\n",
    "This model must be able to assess which are the priority areas (in terms of both region and product type) to invest TNC’s resources. These areas should be the most affected by the expansion of agribusiness, in terms of environmental impact.\n"
   ]
  },
  {
   "cell_type": "markdown",
   "metadata": {
    "id": "6eTFURTN308H"
   },
   "source": [
    "### Importing Libraries"
   ]
  },
  {
   "cell_type": "code",
   "execution_count": 1,
   "metadata": {
    "id": "LGnKcQdP308J"
   },
   "outputs": [],
   "source": [
    "import pandas as pd\n",
    "import numpy as np\n",
    "import seaborn as sns\n",
    "from sklearn.model_selection import train_test_split\n",
    "from sklearn import preprocessing\n",
    "from sklearn.preprocessing import MinMaxScaler\n",
    "import matplotlib.pyplot as plt"
   ]
  },
  {
   "cell_type": "code",
   "execution_count": 2,
   "metadata": {
    "colab": {
     "base_uri": "https://localhost:8080/",
     "height": 73,
     "resources": {
      "http://localhost:8080/nbextensions/google.colab/files.js": {
       "data": "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",
       "headers": [
        [
         "content-type",
         "application/javascript"
        ]
       ],
       "ok": true,
       "status": 200,
       "status_text": ""
      }
     }
    },
    "id": "UP15JCQr31wR",
    "outputId": "054163d5-e482-4687-ad45-2fae8365e800"
   },
   "outputs": [],
   "source": [
    "# from google.colab import files \n",
    "# uploaded = files.upload()"
   ]
  },
  {
   "cell_type": "markdown",
   "metadata": {
    "id": "MJxFYjxpV1Pi"
   },
   "source": [
    "## Understanding the database"
   ]
  },
  {
   "cell_type": "code",
   "execution_count": 3,
   "metadata": {
    "colab": {
     "base_uri": "https://localhost:8080/",
     "height": 363
    },
    "id": "sW9YhwsT308K",
    "outputId": "5ed6a4aa-05a9-452f-9ad9-ce256af37366"
   },
   "outputs": [
    {
     "data": {
      "text/html": [
       "<div>\n",
       "<style scoped>\n",
       "    .dataframe tbody tr th:only-of-type {\n",
       "        vertical-align: middle;\n",
       "    }\n",
       "\n",
       "    .dataframe tbody tr th {\n",
       "        vertical-align: top;\n",
       "    }\n",
       "\n",
       "    .dataframe thead th {\n",
       "        text-align: right;\n",
       "    }\n",
       "</style>\n",
       "<table border=\"1\" class=\"dataframe\">\n",
       "  <thead>\n",
       "    <tr style=\"text-align: right;\">\n",
       "      <th></th>\n",
       "      <th>year</th>\n",
       "      <th>city_code</th>\n",
       "      <th>product_type</th>\n",
       "      <th>product</th>\n",
       "      <th>destinated_area</th>\n",
       "    </tr>\n",
       "  </thead>\n",
       "  <tbody>\n",
       "    <tr>\n",
       "      <th>0</th>\n",
       "      <td>01/01/1974</td>\n",
       "      <td>960b4f2c94a2fb2c</td>\n",
       "      <td>temporary</td>\n",
       "      <td>Others</td>\n",
       "      <td>0,00</td>\n",
       "    </tr>\n",
       "    <tr>\n",
       "      <th>1</th>\n",
       "      <td>01/01/1974</td>\n",
       "      <td>746cc42bfb8f6b62</td>\n",
       "      <td>temporary</td>\n",
       "      <td>Others</td>\n",
       "      <td>0,00</td>\n",
       "    </tr>\n",
       "    <tr>\n",
       "      <th>2</th>\n",
       "      <td>01/01/1974</td>\n",
       "      <td>6cce2bf873870afc</td>\n",
       "      <td>temporary</td>\n",
       "      <td>Others</td>\n",
       "      <td>0,00</td>\n",
       "    </tr>\n",
       "    <tr>\n",
       "      <th>3</th>\n",
       "      <td>01/01/1974</td>\n",
       "      <td>4de42e351006a2ae</td>\n",
       "      <td>temporary</td>\n",
       "      <td>Others</td>\n",
       "      <td>0,00</td>\n",
       "    </tr>\n",
       "    <tr>\n",
       "      <th>4</th>\n",
       "      <td>01/01/1974</td>\n",
       "      <td>5b6072f8f6d37acc</td>\n",
       "      <td>temporary</td>\n",
       "      <td>Others</td>\n",
       "      <td>0,00</td>\n",
       "    </tr>\n",
       "    <tr>\n",
       "      <th>5</th>\n",
       "      <td>01/01/1974</td>\n",
       "      <td>eac302b92f87d9ca</td>\n",
       "      <td>temporary</td>\n",
       "      <td>Others</td>\n",
       "      <td>0,00</td>\n",
       "    </tr>\n",
       "    <tr>\n",
       "      <th>6</th>\n",
       "      <td>01/01/1974</td>\n",
       "      <td>ab984377b2dc0284</td>\n",
       "      <td>temporary</td>\n",
       "      <td>Others</td>\n",
       "      <td>0,00</td>\n",
       "    </tr>\n",
       "    <tr>\n",
       "      <th>7</th>\n",
       "      <td>01/01/1974</td>\n",
       "      <td>074590cfc1c41ebf</td>\n",
       "      <td>temporary</td>\n",
       "      <td>Others</td>\n",
       "      <td>0,00</td>\n",
       "    </tr>\n",
       "    <tr>\n",
       "      <th>8</th>\n",
       "      <td>01/01/1974</td>\n",
       "      <td>0307883b5d063703</td>\n",
       "      <td>temporary</td>\n",
       "      <td>Others</td>\n",
       "      <td>0,00</td>\n",
       "    </tr>\n",
       "    <tr>\n",
       "      <th>9</th>\n",
       "      <td>01/01/1974</td>\n",
       "      <td>062ce4c17e84291e</td>\n",
       "      <td>temporary</td>\n",
       "      <td>Others</td>\n",
       "      <td>0,00</td>\n",
       "    </tr>\n",
       "  </tbody>\n",
       "</table>\n",
       "</div>"
      ],
      "text/plain": [
       "         year         city_code product_type product destinated_area\n",
       "0  01/01/1974  960b4f2c94a2fb2c    temporary  Others            0,00\n",
       "1  01/01/1974  746cc42bfb8f6b62    temporary  Others            0,00\n",
       "2  01/01/1974  6cce2bf873870afc    temporary  Others            0,00\n",
       "3  01/01/1974  4de42e351006a2ae    temporary  Others            0,00\n",
       "4  01/01/1974  5b6072f8f6d37acc    temporary  Others            0,00\n",
       "5  01/01/1974  eac302b92f87d9ca    temporary  Others            0,00\n",
       "6  01/01/1974  ab984377b2dc0284    temporary  Others            0,00\n",
       "7  01/01/1974  074590cfc1c41ebf    temporary  Others            0,00\n",
       "8  01/01/1974  0307883b5d063703    temporary  Others            0,00\n",
       "9  01/01/1974  062ce4c17e84291e    temporary  Others            0,00"
      ]
     },
     "execution_count": 3,
     "metadata": {},
     "output_type": "execute_result"
    }
   ],
   "source": [
    "# Importing the CSV File\n",
    "df = pd.read_csv('historical-database.csv', sep = ';')\n",
    "df.head(10)"
   ]
  },
  {
   "cell_type": "code",
   "execution_count": 4,
   "metadata": {
    "colab": {
     "base_uri": "https://localhost:8080/"
    },
    "id": "YT-BztDy308K",
    "outputId": "e4722429-33f7-4894-d694-86da9ee72202"
   },
   "outputs": [
    {
     "name": "stdout",
     "output_type": "stream",
     "text": [
      "<class 'pandas.core.frame.DataFrame'>\n",
      "RangeIndex: 73744 entries, 0 to 73743\n",
      "Data columns (total 5 columns):\n",
      " #   Column           Non-Null Count  Dtype \n",
      "---  ------           --------------  ----- \n",
      " 0   year             73744 non-null  object\n",
      " 1   city_code        73744 non-null  object\n",
      " 2   product_type     73744 non-null  object\n",
      " 3   product          73744 non-null  object\n",
      " 4   destinated_area  73744 non-null  object\n",
      "dtypes: object(5)\n",
      "memory usage: 2.8+ MB\n"
     ]
    }
   ],
   "source": [
    "df.info()"
   ]
  },
  {
   "cell_type": "code",
   "execution_count": 5,
   "metadata": {
    "colab": {
     "base_uri": "https://localhost:8080/"
    },
    "id": "LLaJSgzhWCk8",
    "outputId": "bc385aae-b26d-4de2-bfa6-2fdc6514b37c"
   },
   "outputs": [
    {
     "data": {
      "text/plain": [
       "year               0\n",
       "city_code          0\n",
       "product_type       0\n",
       "product            0\n",
       "destinated_area    0\n",
       "dtype: int64"
      ]
     },
     "execution_count": 5,
     "metadata": {},
     "output_type": "execute_result"
    }
   ],
   "source": [
    "# There is any null values?\n",
    "df.isnull().sum()"
   ]
  },
  {
   "cell_type": "code",
   "execution_count": 6,
   "metadata": {
    "colab": {
     "base_uri": "https://localhost:8080/"
    },
    "id": "Al6LL9uPSNuK",
    "outputId": "88292575-e857-46a1-8eee-7a445459d68a"
   },
   "outputs": [
    {
     "name": "stdout",
     "output_type": "stream",
     "text": [
      "Column \"year\" has 44 uniques values\n",
      "Column \"city_code\" has 144 uniques values\n",
      "Column \"product_type\" has 3 uniques values\n",
      "Column \"product\" has 11 uniques values\n",
      "Column \"destinated_area\" has 7154 uniques values\n"
     ]
    }
   ],
   "source": [
    "# Looking for the unique values in the columns\n",
    "for column in df.columns:\n",
    "  print(f'Column \"{column}\" has {len(df[column].unique())} uniques values')"
   ]
  },
  {
   "cell_type": "markdown",
   "metadata": {
    "id": "kERAvqLEYO0X"
   },
   "source": [
    "#### Casting the variables for ideals dtypes\n",
    "\n",
    "To get a better understanding of the data, is a good pratice to cast, or least try, to cast the variables types to the ideal dtype of each one"
   ]
  },
  {
   "cell_type": "code",
   "execution_count": 7,
   "metadata": {
    "colab": {
     "base_uri": "https://localhost:8080/",
     "height": 398
    },
    "id": "vrhcGychYhRi",
    "outputId": "3dcef1d4-ecb8-46bf-e4d9-dd787aecc8ec"
   },
   "outputs": [
    {
     "name": "stdout",
     "output_type": "stream",
     "text": [
      "The type of column \"year\" before the casting is: object\n",
      "The type of column \"year\" after the casting is: datetime64[ns]\n"
     ]
    },
    {
     "data": {
      "text/html": [
       "<div>\n",
       "<style scoped>\n",
       "    .dataframe tbody tr th:only-of-type {\n",
       "        vertical-align: middle;\n",
       "    }\n",
       "\n",
       "    .dataframe tbody tr th {\n",
       "        vertical-align: top;\n",
       "    }\n",
       "\n",
       "    .dataframe thead th {\n",
       "        text-align: right;\n",
       "    }\n",
       "</style>\n",
       "<table border=\"1\" class=\"dataframe\">\n",
       "  <thead>\n",
       "    <tr style=\"text-align: right;\">\n",
       "      <th></th>\n",
       "      <th>year</th>\n",
       "      <th>city_code</th>\n",
       "      <th>product_type</th>\n",
       "      <th>product</th>\n",
       "      <th>destinated_area</th>\n",
       "    </tr>\n",
       "  </thead>\n",
       "  <tbody>\n",
       "    <tr>\n",
       "      <th>0</th>\n",
       "      <td>1974</td>\n",
       "      <td>960b4f2c94a2fb2c</td>\n",
       "      <td>temporary</td>\n",
       "      <td>Others</td>\n",
       "      <td>0,00</td>\n",
       "    </tr>\n",
       "    <tr>\n",
       "      <th>1</th>\n",
       "      <td>1974</td>\n",
       "      <td>746cc42bfb8f6b62</td>\n",
       "      <td>temporary</td>\n",
       "      <td>Others</td>\n",
       "      <td>0,00</td>\n",
       "    </tr>\n",
       "    <tr>\n",
       "      <th>2</th>\n",
       "      <td>1974</td>\n",
       "      <td>6cce2bf873870afc</td>\n",
       "      <td>temporary</td>\n",
       "      <td>Others</td>\n",
       "      <td>0,00</td>\n",
       "    </tr>\n",
       "    <tr>\n",
       "      <th>3</th>\n",
       "      <td>1974</td>\n",
       "      <td>4de42e351006a2ae</td>\n",
       "      <td>temporary</td>\n",
       "      <td>Others</td>\n",
       "      <td>0,00</td>\n",
       "    </tr>\n",
       "    <tr>\n",
       "      <th>4</th>\n",
       "      <td>1974</td>\n",
       "      <td>5b6072f8f6d37acc</td>\n",
       "      <td>temporary</td>\n",
       "      <td>Others</td>\n",
       "      <td>0,00</td>\n",
       "    </tr>\n",
       "    <tr>\n",
       "      <th>5</th>\n",
       "      <td>1974</td>\n",
       "      <td>eac302b92f87d9ca</td>\n",
       "      <td>temporary</td>\n",
       "      <td>Others</td>\n",
       "      <td>0,00</td>\n",
       "    </tr>\n",
       "    <tr>\n",
       "      <th>6</th>\n",
       "      <td>1974</td>\n",
       "      <td>ab984377b2dc0284</td>\n",
       "      <td>temporary</td>\n",
       "      <td>Others</td>\n",
       "      <td>0,00</td>\n",
       "    </tr>\n",
       "    <tr>\n",
       "      <th>7</th>\n",
       "      <td>1974</td>\n",
       "      <td>074590cfc1c41ebf</td>\n",
       "      <td>temporary</td>\n",
       "      <td>Others</td>\n",
       "      <td>0,00</td>\n",
       "    </tr>\n",
       "    <tr>\n",
       "      <th>8</th>\n",
       "      <td>1974</td>\n",
       "      <td>0307883b5d063703</td>\n",
       "      <td>temporary</td>\n",
       "      <td>Others</td>\n",
       "      <td>0,00</td>\n",
       "    </tr>\n",
       "    <tr>\n",
       "      <th>9</th>\n",
       "      <td>1974</td>\n",
       "      <td>062ce4c17e84291e</td>\n",
       "      <td>temporary</td>\n",
       "      <td>Others</td>\n",
       "      <td>0,00</td>\n",
       "    </tr>\n",
       "  </tbody>\n",
       "</table>\n",
       "</div>"
      ],
      "text/plain": [
       "   year         city_code product_type product destinated_area\n",
       "0  1974  960b4f2c94a2fb2c    temporary  Others            0,00\n",
       "1  1974  746cc42bfb8f6b62    temporary  Others            0,00\n",
       "2  1974  6cce2bf873870afc    temporary  Others            0,00\n",
       "3  1974  4de42e351006a2ae    temporary  Others            0,00\n",
       "4  1974  5b6072f8f6d37acc    temporary  Others            0,00\n",
       "5  1974  eac302b92f87d9ca    temporary  Others            0,00\n",
       "6  1974  ab984377b2dc0284    temporary  Others            0,00\n",
       "7  1974  074590cfc1c41ebf    temporary  Others            0,00\n",
       "8  1974  0307883b5d063703    temporary  Others            0,00\n",
       "9  1974  062ce4c17e84291e    temporary  Others            0,00"
      ]
     },
     "execution_count": 7,
     "metadata": {},
     "output_type": "execute_result"
    }
   ],
   "source": [
    "#Convert the column \"year\" to time-stamp\n",
    "print(f'The type of column \"year\" before the casting is: {df.year.dtype}')\n",
    "df['year'] = pd.to_datetime(df['year'], format=\"%m/%d/%Y\")\n",
    "print(f'The type of column \"year\" after the casting is: {df.year.dtype}')\n",
    "#Getting only the year the column for better understading\n",
    "df['year'] = pd.DatetimeIndex(df['year']).year\n",
    "df.head(10)"
   ]
  },
  {
   "cell_type": "code",
   "execution_count": 8,
   "metadata": {
    "colab": {
     "base_uri": "https://localhost:8080/",
     "height": 398
    },
    "id": "BeT8G4gMa1qW",
    "outputId": "d9c48ea5-9704-4cfc-9d5f-65a10ca7ee7a"
   },
   "outputs": [
    {
     "name": "stdout",
     "output_type": "stream",
     "text": [
      "The type of column \"product_type\" before the casting is: object\n",
      "The type of column \"product_type\" after the casting is: category\n"
     ]
    },
    {
     "data": {
      "text/html": [
       "<div>\n",
       "<style scoped>\n",
       "    .dataframe tbody tr th:only-of-type {\n",
       "        vertical-align: middle;\n",
       "    }\n",
       "\n",
       "    .dataframe tbody tr th {\n",
       "        vertical-align: top;\n",
       "    }\n",
       "\n",
       "    .dataframe thead th {\n",
       "        text-align: right;\n",
       "    }\n",
       "</style>\n",
       "<table border=\"1\" class=\"dataframe\">\n",
       "  <thead>\n",
       "    <tr style=\"text-align: right;\">\n",
       "      <th></th>\n",
       "      <th>year</th>\n",
       "      <th>city_code</th>\n",
       "      <th>product_type</th>\n",
       "      <th>product</th>\n",
       "      <th>destinated_area</th>\n",
       "    </tr>\n",
       "  </thead>\n",
       "  <tbody>\n",
       "    <tr>\n",
       "      <th>0</th>\n",
       "      <td>1974</td>\n",
       "      <td>960b4f2c94a2fb2c</td>\n",
       "      <td>temporary</td>\n",
       "      <td>Others</td>\n",
       "      <td>0,00</td>\n",
       "    </tr>\n",
       "    <tr>\n",
       "      <th>1</th>\n",
       "      <td>1974</td>\n",
       "      <td>746cc42bfb8f6b62</td>\n",
       "      <td>temporary</td>\n",
       "      <td>Others</td>\n",
       "      <td>0,00</td>\n",
       "    </tr>\n",
       "    <tr>\n",
       "      <th>2</th>\n",
       "      <td>1974</td>\n",
       "      <td>6cce2bf873870afc</td>\n",
       "      <td>temporary</td>\n",
       "      <td>Others</td>\n",
       "      <td>0,00</td>\n",
       "    </tr>\n",
       "    <tr>\n",
       "      <th>3</th>\n",
       "      <td>1974</td>\n",
       "      <td>4de42e351006a2ae</td>\n",
       "      <td>temporary</td>\n",
       "      <td>Others</td>\n",
       "      <td>0,00</td>\n",
       "    </tr>\n",
       "    <tr>\n",
       "      <th>4</th>\n",
       "      <td>1974</td>\n",
       "      <td>5b6072f8f6d37acc</td>\n",
       "      <td>temporary</td>\n",
       "      <td>Others</td>\n",
       "      <td>0,00</td>\n",
       "    </tr>\n",
       "    <tr>\n",
       "      <th>5</th>\n",
       "      <td>1974</td>\n",
       "      <td>eac302b92f87d9ca</td>\n",
       "      <td>temporary</td>\n",
       "      <td>Others</td>\n",
       "      <td>0,00</td>\n",
       "    </tr>\n",
       "    <tr>\n",
       "      <th>6</th>\n",
       "      <td>1974</td>\n",
       "      <td>ab984377b2dc0284</td>\n",
       "      <td>temporary</td>\n",
       "      <td>Others</td>\n",
       "      <td>0,00</td>\n",
       "    </tr>\n",
       "    <tr>\n",
       "      <th>7</th>\n",
       "      <td>1974</td>\n",
       "      <td>074590cfc1c41ebf</td>\n",
       "      <td>temporary</td>\n",
       "      <td>Others</td>\n",
       "      <td>0,00</td>\n",
       "    </tr>\n",
       "    <tr>\n",
       "      <th>8</th>\n",
       "      <td>1974</td>\n",
       "      <td>0307883b5d063703</td>\n",
       "      <td>temporary</td>\n",
       "      <td>Others</td>\n",
       "      <td>0,00</td>\n",
       "    </tr>\n",
       "    <tr>\n",
       "      <th>9</th>\n",
       "      <td>1974</td>\n",
       "      <td>062ce4c17e84291e</td>\n",
       "      <td>temporary</td>\n",
       "      <td>Others</td>\n",
       "      <td>0,00</td>\n",
       "    </tr>\n",
       "  </tbody>\n",
       "</table>\n",
       "</div>"
      ],
      "text/plain": [
       "   year         city_code product_type product destinated_area\n",
       "0  1974  960b4f2c94a2fb2c    temporary  Others            0,00\n",
       "1  1974  746cc42bfb8f6b62    temporary  Others            0,00\n",
       "2  1974  6cce2bf873870afc    temporary  Others            0,00\n",
       "3  1974  4de42e351006a2ae    temporary  Others            0,00\n",
       "4  1974  5b6072f8f6d37acc    temporary  Others            0,00\n",
       "5  1974  eac302b92f87d9ca    temporary  Others            0,00\n",
       "6  1974  ab984377b2dc0284    temporary  Others            0,00\n",
       "7  1974  074590cfc1c41ebf    temporary  Others            0,00\n",
       "8  1974  0307883b5d063703    temporary  Others            0,00\n",
       "9  1974  062ce4c17e84291e    temporary  Others            0,00"
      ]
     },
     "execution_count": 8,
     "metadata": {},
     "output_type": "execute_result"
    }
   ],
   "source": [
    "#Convert the column \"product_type\" to categorical type\n",
    "print(f'The type of column \"product_type\" before the casting is: {df.product_type.dtype}')\n",
    "df['product_type'] = df['product_type'].astype('category')\n",
    "print(f'The type of column \"product_type\" after the casting is: {df.product_type.dtype}')\n",
    "#Getting only the year the column for better understading\n",
    "df.head(10)"
   ]
  },
  {
   "cell_type": "code",
   "execution_count": 9,
   "metadata": {
    "colab": {
     "base_uri": "https://localhost:8080/",
     "height": 398
    },
    "id": "NcyRohtObi8F",
    "outputId": "b2846a40-8568-448b-c25c-1e3556c81dcd"
   },
   "outputs": [
    {
     "name": "stdout",
     "output_type": "stream",
     "text": [
      "The type of column \"product\" before the casting is: object\n",
      "The type of column \"product\" after the casting is: category\n"
     ]
    },
    {
     "data": {
      "text/html": [
       "<div>\n",
       "<style scoped>\n",
       "    .dataframe tbody tr th:only-of-type {\n",
       "        vertical-align: middle;\n",
       "    }\n",
       "\n",
       "    .dataframe tbody tr th {\n",
       "        vertical-align: top;\n",
       "    }\n",
       "\n",
       "    .dataframe thead th {\n",
       "        text-align: right;\n",
       "    }\n",
       "</style>\n",
       "<table border=\"1\" class=\"dataframe\">\n",
       "  <thead>\n",
       "    <tr style=\"text-align: right;\">\n",
       "      <th></th>\n",
       "      <th>year</th>\n",
       "      <th>city_code</th>\n",
       "      <th>product_type</th>\n",
       "      <th>product</th>\n",
       "      <th>destinated_area</th>\n",
       "    </tr>\n",
       "  </thead>\n",
       "  <tbody>\n",
       "    <tr>\n",
       "      <th>0</th>\n",
       "      <td>1974</td>\n",
       "      <td>960b4f2c94a2fb2c</td>\n",
       "      <td>temporary</td>\n",
       "      <td>Others</td>\n",
       "      <td>0,00</td>\n",
       "    </tr>\n",
       "    <tr>\n",
       "      <th>1</th>\n",
       "      <td>1974</td>\n",
       "      <td>746cc42bfb8f6b62</td>\n",
       "      <td>temporary</td>\n",
       "      <td>Others</td>\n",
       "      <td>0,00</td>\n",
       "    </tr>\n",
       "    <tr>\n",
       "      <th>2</th>\n",
       "      <td>1974</td>\n",
       "      <td>6cce2bf873870afc</td>\n",
       "      <td>temporary</td>\n",
       "      <td>Others</td>\n",
       "      <td>0,00</td>\n",
       "    </tr>\n",
       "    <tr>\n",
       "      <th>3</th>\n",
       "      <td>1974</td>\n",
       "      <td>4de42e351006a2ae</td>\n",
       "      <td>temporary</td>\n",
       "      <td>Others</td>\n",
       "      <td>0,00</td>\n",
       "    </tr>\n",
       "    <tr>\n",
       "      <th>4</th>\n",
       "      <td>1974</td>\n",
       "      <td>5b6072f8f6d37acc</td>\n",
       "      <td>temporary</td>\n",
       "      <td>Others</td>\n",
       "      <td>0,00</td>\n",
       "    </tr>\n",
       "    <tr>\n",
       "      <th>5</th>\n",
       "      <td>1974</td>\n",
       "      <td>eac302b92f87d9ca</td>\n",
       "      <td>temporary</td>\n",
       "      <td>Others</td>\n",
       "      <td>0,00</td>\n",
       "    </tr>\n",
       "    <tr>\n",
       "      <th>6</th>\n",
       "      <td>1974</td>\n",
       "      <td>ab984377b2dc0284</td>\n",
       "      <td>temporary</td>\n",
       "      <td>Others</td>\n",
       "      <td>0,00</td>\n",
       "    </tr>\n",
       "    <tr>\n",
       "      <th>7</th>\n",
       "      <td>1974</td>\n",
       "      <td>074590cfc1c41ebf</td>\n",
       "      <td>temporary</td>\n",
       "      <td>Others</td>\n",
       "      <td>0,00</td>\n",
       "    </tr>\n",
       "    <tr>\n",
       "      <th>8</th>\n",
       "      <td>1974</td>\n",
       "      <td>0307883b5d063703</td>\n",
       "      <td>temporary</td>\n",
       "      <td>Others</td>\n",
       "      <td>0,00</td>\n",
       "    </tr>\n",
       "    <tr>\n",
       "      <th>9</th>\n",
       "      <td>1974</td>\n",
       "      <td>062ce4c17e84291e</td>\n",
       "      <td>temporary</td>\n",
       "      <td>Others</td>\n",
       "      <td>0,00</td>\n",
       "    </tr>\n",
       "  </tbody>\n",
       "</table>\n",
       "</div>"
      ],
      "text/plain": [
       "   year         city_code product_type product destinated_area\n",
       "0  1974  960b4f2c94a2fb2c    temporary  Others            0,00\n",
       "1  1974  746cc42bfb8f6b62    temporary  Others            0,00\n",
       "2  1974  6cce2bf873870afc    temporary  Others            0,00\n",
       "3  1974  4de42e351006a2ae    temporary  Others            0,00\n",
       "4  1974  5b6072f8f6d37acc    temporary  Others            0,00\n",
       "5  1974  eac302b92f87d9ca    temporary  Others            0,00\n",
       "6  1974  ab984377b2dc0284    temporary  Others            0,00\n",
       "7  1974  074590cfc1c41ebf    temporary  Others            0,00\n",
       "8  1974  0307883b5d063703    temporary  Others            0,00\n",
       "9  1974  062ce4c17e84291e    temporary  Others            0,00"
      ]
     },
     "execution_count": 9,
     "metadata": {},
     "output_type": "execute_result"
    }
   ],
   "source": [
    "#Convert the column \"product\" to categorical type\n",
    "print(f'The type of column \"product\" before the casting is: {df[\"product\"].dtype}')\n",
    "df['product'] = df['product'].astype('category')\n",
    "print(f'The type of column \"product\" after the casting is: {df[\"product\"].dtype}')\n",
    "#Getting only the year the column for better understading\n",
    "df.head(10)"
   ]
  },
  {
   "cell_type": "code",
   "execution_count": 10,
   "metadata": {
    "colab": {
     "base_uri": "https://localhost:8080/"
    },
    "id": "kxmbiPngeQe4",
    "outputId": "676db26c-d9b0-4e36-be98-062bffadb89f"
   },
   "outputs": [
    {
     "data": {
      "text/plain": [
       ",            39035\n",
       "0,00          5643\n",
       "50,00          598\n",
       "10,00          546\n",
       "100,00         538\n",
       "             ...  \n",
       "178306,19        1\n",
       "168761,17        1\n",
       "153550,27        1\n",
       "151607,45        1\n",
       "165220,87        1\n",
       "Name: destinated_area, Length: 7154, dtype: int64"
      ]
     },
     "execution_count": 10,
     "metadata": {},
     "output_type": "execute_result"
    }
   ],
   "source": [
    "# Looking further to the 'destinated_area' column we can see that there are some strange values as ',' in it.\n",
    "df['destinated_area'].value_counts()"
   ]
  },
  {
   "cell_type": "code",
   "execution_count": 11,
   "metadata": {
    "colab": {
     "base_uri": "https://localhost:8080/"
    },
    "id": "3mkjm_fGaTle",
    "outputId": "06ea1a99-1db3-492d-f3c3-630f630dbe4c"
   },
   "outputs": [
    {
     "data": {
      "text/plain": [
       "0,00         5643\n",
       "50,00         598\n",
       "10,00         546\n",
       "100,00        538\n",
       "300,00        442\n",
       "             ... \n",
       "178306,19       1\n",
       "168761,17       1\n",
       "153550,27       1\n",
       "151607,45       1\n",
       "165220,87       1\n",
       "Name: destinated_area, Length: 7153, dtype: int64"
      ]
     },
     "execution_count": 11,
     "metadata": {},
     "output_type": "execute_result"
    }
   ],
   "source": [
    "#Dropping the conma:\n",
    "conma_list = list(df[df.destinated_area==\",\"].index)\n",
    "df.drop(conma_list,inplace=True)\n",
    "df['destinated_area'].value_counts()"
   ]
  },
  {
   "cell_type": "code",
   "execution_count": 12,
   "metadata": {
    "colab": {
     "base_uri": "https://localhost:8080/",
     "height": 424
    },
    "id": "9LdTtiP5gbtX",
    "outputId": "2d9ccd90-e4bb-4ffd-ebd7-b6b16e63f097"
   },
   "outputs": [
    {
     "data": {
      "text/html": [
       "<div>\n",
       "<style scoped>\n",
       "    .dataframe tbody tr th:only-of-type {\n",
       "        vertical-align: middle;\n",
       "    }\n",
       "\n",
       "    .dataframe tbody tr th {\n",
       "        vertical-align: top;\n",
       "    }\n",
       "\n",
       "    .dataframe thead th {\n",
       "        text-align: right;\n",
       "    }\n",
       "</style>\n",
       "<table border=\"1\" class=\"dataframe\">\n",
       "  <thead>\n",
       "    <tr style=\"text-align: right;\">\n",
       "      <th></th>\n",
       "      <th>year</th>\n",
       "      <th>city_code</th>\n",
       "      <th>product_type</th>\n",
       "      <th>product</th>\n",
       "      <th>destinated_area</th>\n",
       "    </tr>\n",
       "  </thead>\n",
       "  <tbody>\n",
       "    <tr>\n",
       "      <th>0</th>\n",
       "      <td>1974</td>\n",
       "      <td>960b4f2c94a2fb2c</td>\n",
       "      <td>temporary</td>\n",
       "      <td>Others</td>\n",
       "      <td>0.00</td>\n",
       "    </tr>\n",
       "    <tr>\n",
       "      <th>1</th>\n",
       "      <td>1974</td>\n",
       "      <td>746cc42bfb8f6b62</td>\n",
       "      <td>temporary</td>\n",
       "      <td>Others</td>\n",
       "      <td>0.00</td>\n",
       "    </tr>\n",
       "    <tr>\n",
       "      <th>2</th>\n",
       "      <td>1974</td>\n",
       "      <td>6cce2bf873870afc</td>\n",
       "      <td>temporary</td>\n",
       "      <td>Others</td>\n",
       "      <td>0.00</td>\n",
       "    </tr>\n",
       "    <tr>\n",
       "      <th>3</th>\n",
       "      <td>1974</td>\n",
       "      <td>4de42e351006a2ae</td>\n",
       "      <td>temporary</td>\n",
       "      <td>Others</td>\n",
       "      <td>0.00</td>\n",
       "    </tr>\n",
       "    <tr>\n",
       "      <th>4</th>\n",
       "      <td>1974</td>\n",
       "      <td>5b6072f8f6d37acc</td>\n",
       "      <td>temporary</td>\n",
       "      <td>Others</td>\n",
       "      <td>0.00</td>\n",
       "    </tr>\n",
       "    <tr>\n",
       "      <th>...</th>\n",
       "      <td>...</td>\n",
       "      <td>...</td>\n",
       "      <td>...</td>\n",
       "      <td>...</td>\n",
       "      <td>...</td>\n",
       "    </tr>\n",
       "    <tr>\n",
       "      <th>73739</th>\n",
       "      <td>2013</td>\n",
       "      <td>74d75dde6dc4a5ec</td>\n",
       "      <td>pasture</td>\n",
       "      <td>Livestock</td>\n",
       "      <td>150866.56</td>\n",
       "    </tr>\n",
       "    <tr>\n",
       "      <th>73740</th>\n",
       "      <td>2014</td>\n",
       "      <td>74d75dde6dc4a5ec</td>\n",
       "      <td>pasture</td>\n",
       "      <td>Livestock</td>\n",
       "      <td>152446.40</td>\n",
       "    </tr>\n",
       "    <tr>\n",
       "      <th>73741</th>\n",
       "      <td>2015</td>\n",
       "      <td>74d75dde6dc4a5ec</td>\n",
       "      <td>pasture</td>\n",
       "      <td>Livestock</td>\n",
       "      <td>154681.02</td>\n",
       "    </tr>\n",
       "    <tr>\n",
       "      <th>73742</th>\n",
       "      <td>2016</td>\n",
       "      <td>74d75dde6dc4a5ec</td>\n",
       "      <td>pasture</td>\n",
       "      <td>Livestock</td>\n",
       "      <td>164706.28</td>\n",
       "    </tr>\n",
       "    <tr>\n",
       "      <th>73743</th>\n",
       "      <td>2017</td>\n",
       "      <td>74d75dde6dc4a5ec</td>\n",
       "      <td>pasture</td>\n",
       "      <td>Livestock</td>\n",
       "      <td>165220.87</td>\n",
       "    </tr>\n",
       "  </tbody>\n",
       "</table>\n",
       "<p>34709 rows × 5 columns</p>\n",
       "</div>"
      ],
      "text/plain": [
       "       year         city_code product_type    product  destinated_area\n",
       "0      1974  960b4f2c94a2fb2c    temporary     Others             0.00\n",
       "1      1974  746cc42bfb8f6b62    temporary     Others             0.00\n",
       "2      1974  6cce2bf873870afc    temporary     Others             0.00\n",
       "3      1974  4de42e351006a2ae    temporary     Others             0.00\n",
       "4      1974  5b6072f8f6d37acc    temporary     Others             0.00\n",
       "...     ...               ...          ...        ...              ...\n",
       "73739  2013  74d75dde6dc4a5ec      pasture  Livestock        150866.56\n",
       "73740  2014  74d75dde6dc4a5ec      pasture  Livestock        152446.40\n",
       "73741  2015  74d75dde6dc4a5ec      pasture  Livestock        154681.02\n",
       "73742  2016  74d75dde6dc4a5ec      pasture  Livestock        164706.28\n",
       "73743  2017  74d75dde6dc4a5ec      pasture  Livestock        165220.87\n",
       "\n",
       "[34709 rows x 5 columns]"
      ]
     },
     "execution_count": 12,
     "metadata": {},
     "output_type": "execute_result"
    }
   ],
   "source": [
    "# Replace the conma separator for '.'\n",
    "df['destinated_area'] = df['destinated_area'].apply(lambda x: float(x.split()[0].replace(',', '.')))\n",
    "df"
   ]
  },
  {
   "cell_type": "code",
   "execution_count": 13,
   "metadata": {
    "colab": {
     "base_uri": "https://localhost:8080/"
    },
    "id": "pxQY2DROhshP",
    "outputId": "9a992ab9-27a9-42e8-a182-dd67f8ac66e4"
   },
   "outputs": [
    {
     "name": "stdout",
     "output_type": "stream",
     "text": [
      "<class 'pandas.core.frame.DataFrame'>\n",
      "Int64Index: 34709 entries, 0 to 73743\n",
      "Data columns (total 5 columns):\n",
      " #   Column           Non-Null Count  Dtype   \n",
      "---  ------           --------------  -----   \n",
      " 0   year             34709 non-null  int64   \n",
      " 1   city_code        34709 non-null  object  \n",
      " 2   product_type     34709 non-null  category\n",
      " 3   product          34709 non-null  category\n",
      " 4   destinated_area  34709 non-null  float64 \n",
      "dtypes: category(2), float64(1), int64(1), object(1)\n",
      "memory usage: 1.1+ MB\n"
     ]
    }
   ],
   "source": [
    "df.info()"
   ]
  },
  {
   "cell_type": "markdown",
   "metadata": {
    "id": "kU2KtJlLiHXl"
   },
   "source": [
    "## Exploratory Data Analysis \n",
    "\n",
    "Now lets get a further look in the database"
   ]
  },
  {
   "cell_type": "code",
   "execution_count": 14,
   "metadata": {
    "id": "LTAN7OFsih_3"
   },
   "outputs": [],
   "source": [
    "# Setting a color pattern to the graphics\n",
    "sns.set_style('darkgrid')"
   ]
  },
  {
   "cell_type": "markdown",
   "metadata": {
    "id": "-mtMp3ISjPAq"
   },
   "source": [
    "Which year has more data about?"
   ]
  },
  {
   "cell_type": "code",
   "execution_count": 15,
   "metadata": {
    "colab": {
     "base_uri": "https://localhost:8080/",
     "height": 940
    },
    "id": "hfTN_XtgjM8l",
    "outputId": "20fd9e11-c694-4b77-f66f-654f3b53b7ff"
   },
   "outputs": [
    {
     "data": {
      "image/png": "[encoded data removed]",
      "text/plain": [
       "<Figure size 1800x720 with 1 Axes>"
      ]
     },
     "metadata": {},
     "output_type": "display_data"
    }
   ],
   "source": [
    "plt.figure(figsize=(25,10))\n",
    "plt.title(\"Amount of lines per year\",size=25)\n",
    "sns.countplot(df['year']);\n",
    "plt.show()"
   ]
  },
  {
   "cell_type": "markdown",
   "metadata": {
    "id": "vZbzQ_2dp-Z0"
   },
   "source": [
    "## Which is the percentange of the product Type in the Dataframe?"
   ]
  },
  {
   "cell_type": "code",
   "execution_count": 16,
   "metadata": {
    "colab": {
     "base_uri": "https://localhost:8080/",
     "height": 767
    },
    "id": "4UiKxHrxp1hX",
    "outputId": "ce587630-1663-47d9-d107-7e1b72537333"
   },
   "outputs": [
    {
     "data": {
      "image/png": "[encoded data removed]",
      "text/plain": [
       "<Figure size 576x576 with 1 Axes>"
      ]
     },
     "metadata": {},
     "output_type": "display_data"
    }
   ],
   "source": [
    "plt.figure(figsize=(8,8))\n",
    "plt.title('Product Type in df \\n\\n',size=25)\n",
    "plt.pie(df.product_type.value_counts(),labels=df.product_type.value_counts().index,\n",
    "        autopct='%1.1f%%',shadow=True, startangle=90,\n",
    "       textprops={'size':20})\n",
    "plt.axis('equal')  # Equal aspect ratio ensures that pie is drawn as a circle.\n",
    "plt.style.use('default')\n",
    "plt.show()"
   ]
  },
  {
   "cell_type": "markdown",
   "metadata": {
    "id": "yhs5q54AqXXC"
   },
   "source": [
    "## Which is the percentange of the product in the Dataframe?"
   ]
  },
  {
   "cell_type": "code",
   "execution_count": 17,
   "metadata": {
    "colab": {
     "base_uri": "https://localhost:8080/"
    },
    "id": "M3ylQXjLquZ4",
    "outputId": "99ac5dbe-4c41-4c7f-fe2b-4952c68f7185"
   },
   "outputs": [
    {
     "data": {
      "text/plain": [
       "Others       12584\n",
       "Livestock     4752\n",
       "Cassava       3848\n",
       "Corn          3739\n",
       "Rice          3418\n",
       "Beans         3414\n",
       "Cocoa         1801\n",
       "Palm oil       521\n",
       "Soy            334\n",
       "Açaí           291\n",
       "Sorghum          7\n",
       "Name: product, dtype: int64"
      ]
     },
     "execution_count": 17,
     "metadata": {},
     "output_type": "execute_result"
    }
   ],
   "source": [
    "df['product'].value_counts()"
   ]
  },
  {
   "cell_type": "code",
   "execution_count": 18,
   "metadata": {
    "colab": {
     "base_uri": "https://localhost:8080/",
     "height": 767
    },
    "id": "ScTIowpuqWl1",
    "outputId": "78881be7-5f51-4131-a7bb-20dbe8fdcb30"
   },
   "outputs": [
    {
     "data": {
      "image/png": "[encoded data removed]",
      "text/plain": [
       "<Figure size 800x800 with 1 Axes>"
      ]
     },
     "metadata": {},
     "output_type": "display_data"
    }
   ],
   "source": [
    "plt.figure(figsize=(8,8))\n",
    "plt.title('Product in df \\n\\n',size=25)\n",
    "plt.pie(df['product'].value_counts(),labels=df['product'].value_counts().index,\n",
    "        explode= [0,0,0,0,0,0,0,0,0.1,0.2,0.3],autopct='%1.1f%%',shadow=True, startangle=90,\n",
    "       textprops={'size':10})\n",
    "plt.axis('equal')  # Equal aspect ratio ensures that pie is drawn as a circle.\n",
    "plt.style.use('default')\n",
    "plt.show()"
   ]
  },
  {
   "cell_type": "markdown",
   "metadata": {
    "id": "53q-rr1Vryce"
   },
   "source": [
    "## Looking for the distribution of the data in the Area"
   ]
  },
  {
   "cell_type": "code",
   "execution_count": 19,
   "metadata": {
    "colab": {
     "base_uri": "https://localhost:8080/",
     "height": 417
    },
    "id": "l-xnaY-VsKb0",
    "outputId": "f6a780b3-6369-403c-959d-f762b5997802"
   },
   "outputs": [],
   "source": [
    "# plt.figure(figsize = (15,5))\n",
    "# columns = [column for column in df.columns if column!='destinated_area']\n",
    "# for column, number in zip(columns,range(0,len(columns))):\n",
    "#   plt.subplot(2,2,number+1)\n",
    "#   sns.countplot(df.destinated_area,hue=df[column])\n",
    "# plt.show()"
   ]
  },
  {
   "cell_type": "markdown",
   "metadata": {
    "id": "Zq9oZFUqsUiD"
   },
   "source": [
    "## What are the cities with the most areas of destination for agriculture?"
   ]
  },
  {
   "cell_type": "code",
   "execution_count": 20,
   "metadata": {
    "scrolled": false
   },
   "outputs": [],
   "source": [
    "# # creating a list of destinated areas for each city troughth the years\n",
    "# cities = df['city_code'].unique()\n",
    "\n",
    "\n",
    "# from statistics import mean\n",
    "\n",
    "# plt.figure(figsize=(25,10))\n",
    "# for i in cities:\n",
    "#     lista = []\n",
    "#     for year in range(1974, 2018, 1):\n",
    "#         try:\n",
    "#             lista.append(mean(df[(df.city_code == i) & (df.year == year)].destinated_area.to_list()))\n",
    "#         except:\n",
    "#             print(df[(df.city_code == i) & (df.year == year)].destinated_area.to_list())\n",
    "        \n",
    "#     plt.plot(df.year.unique(), lista)\n",
    "        \n",
    "# plt.title(\"Amount of lines per year\",size=25)\n",
    "# plt.yscale(\"log\")\n",
    "# plt.show()\n"
   ]
  },
  {
   "cell_type": "markdown",
   "metadata": {},
   "source": [
    "## What are the types for each product?"
   ]
  },
  {
   "cell_type": "code",
   "execution_count": 28,
   "metadata": {},
   "outputs": [],
   "source": [
    "df_analise = df.groupby(['product_type','product']).agg({'destinated_area': 'sum'}).reset_index()\n",
    "pasture = df_analise[(df_analise.product_type == 'pasture') & (df_analise.destinated_area != 0)]\n",
    "permanent = df_analise[(df_analise.product_type == 'permanent')  & (df_analise.destinated_area != 0)]\n",
    "temporary = df_analise[(df_analise.product_type == 'temporary')  & (df_analise.destinated_area != 0)]"
   ]
  },
  {
   "cell_type": "code",
   "execution_count": 45,
   "metadata": {
    "scrolled": false
   },
   "outputs": [
    {
     "name": "stdout",
     "output_type": "stream",
     "text": [
      "['Beans', 'Cassava', 'Corn', 'Others', 'Rice', 'Sorghum', 'Soy']\n"
     ]
    },
    {
     "data": {
      "image/png": "[encoded data removed]",
      "text/plain": [
       "<Figure size 640x480 with 1 Axes>"
      ]
     },
     "metadata": {},
     "output_type": "display_data"
    },
    {
     "data": {
      "image/png": "[encoded data removed]",
      "text/plain": [
       "<Figure size 800x800 with 1 Axes>"
      ]
     },
     "metadata": {},
     "output_type": "display_data"
    },
    {
     "data": {
      "text/plain": [
       "<Figure size 800x800 with 0 Axes>"
      ]
     },
     "metadata": {},
     "output_type": "display_data"
    }
   ],
   "source": [
    "# fig1, ax1 = plt.subplots()\n",
    "# ax1.pie(pasture['destinated_area'],\n",
    "#         explode=(0),\n",
    "#         labels=pasture['product'],\n",
    "#         autopct='%1.1f%%',\n",
    "#         shadow=True, startangle=90)\n",
    "# ax1.axis('equal')  # Equal aspect ratio ensures that pie is drawn as a circle.\n",
    "# plt.title('Products of type Temporary',size=20)\n",
    "# plt.figure(figsize=(8,8))\n",
    "# plt.show()\n",
    "\n",
    "\n",
    "plt.pie(permanent['destinated_area'].to_list(),\n",
    "        explode=(0, 0, 0, 0),\n",
    "        labels=permanent['product'].to_list(),\n",
    "        autopct='%1.1f%%',\n",
    "        shadow=True, startangle=90)\n",
    "plt.axis('equal')  # Equal aspect ratio ensures that pie is drawn as a circle.\n",
    "plt.title('Products of type Permanent',size=20)\n",
    "plt.figure(figsize=(8,8))\n",
    "plt.style.use('default')\n",
    "\n",
    "plt.pie(temporary['destinated_area'].to_list(),\n",
    "        explode=(0, 0, 0, 0, 0, 0.2, 0),\n",
    "        labels=temporary['product'].to_list(),\n",
    "        autopct='%1.1f%%',\n",
    "        shadow=True, startangle=90)\n",
    "plt.axis('equal')  # Equal aspect ratio ensures that pie is drawn as a circle.\n",
    "plt.title('Products of type Temporary',size=20)\n",
    "plt.figure(figsize=(8,8))\n",
    "plt.style.use('default')\n",
    "plt.show()"
   ]
  },
  {
   "cell_type": "code",
   "execution_count": 34,
   "metadata": {
    "scrolled": true
   },
   "outputs": [
    {
     "data": {
      "text/html": [
       "<div>\n",
       "<style scoped>\n",
       "    .dataframe tbody tr th:only-of-type {\n",
       "        vertical-align: middle;\n",
       "    }\n",
       "\n",
       "    .dataframe tbody tr th {\n",
       "        vertical-align: top;\n",
       "    }\n",
       "\n",
       "    .dataframe thead th {\n",
       "        text-align: right;\n",
       "    }\n",
       "</style>\n",
       "<table border=\"1\" class=\"dataframe\">\n",
       "  <thead>\n",
       "    <tr style=\"text-align: right;\">\n",
       "      <th></th>\n",
       "      <th>product_type</th>\n",
       "      <th>product</th>\n",
       "      <th>destinated_area</th>\n",
       "    </tr>\n",
       "  </thead>\n",
       "  <tbody>\n",
       "    <tr>\n",
       "      <th>11</th>\n",
       "      <td>permanent</td>\n",
       "      <td>Açaí</td>\n",
       "      <td>490693.0</td>\n",
       "    </tr>\n",
       "    <tr>\n",
       "      <th>14</th>\n",
       "      <td>permanent</td>\n",
       "      <td>Cocoa</td>\n",
       "      <td>1998515.0</td>\n",
       "    </tr>\n",
       "    <tr>\n",
       "      <th>17</th>\n",
       "      <td>permanent</td>\n",
       "      <td>Others</td>\n",
       "      <td>3667034.0</td>\n",
       "    </tr>\n",
       "    <tr>\n",
       "      <th>18</th>\n",
       "      <td>permanent</td>\n",
       "      <td>Palm oil</td>\n",
       "      <td>1425421.0</td>\n",
       "    </tr>\n",
       "  </tbody>\n",
       "</table>\n",
       "</div>"
      ],
      "text/plain": [
       "   product_type   product  destinated_area\n",
       "11    permanent      Açaí         490693.0\n",
       "14    permanent     Cocoa        1998515.0\n",
       "17    permanent    Others        3667034.0\n",
       "18    permanent  Palm oil        1425421.0"
      ]
     },
     "execution_count": 34,
     "metadata": {},
     "output_type": "execute_result"
    }
   ],
   "source": [
    "permanent"
   ]
  },
  {
   "cell_type": "code",
   "execution_count": 35,
   "metadata": {},
   "outputs": [
    {
     "data": {
      "text/html": [
       "<div>\n",
       "<style scoped>\n",
       "    .dataframe tbody tr th:only-of-type {\n",
       "        vertical-align: middle;\n",
       "    }\n",
       "\n",
       "    .dataframe tbody tr th {\n",
       "        vertical-align: top;\n",
       "    }\n",
       "\n",
       "    .dataframe thead th {\n",
       "        text-align: right;\n",
       "    }\n",
       "</style>\n",
       "<table border=\"1\" class=\"dataframe\">\n",
       "  <thead>\n",
       "    <tr style=\"text-align: right;\">\n",
       "      <th></th>\n",
       "      <th>product_type</th>\n",
       "      <th>product</th>\n",
       "      <th>destinated_area</th>\n",
       "    </tr>\n",
       "  </thead>\n",
       "  <tbody>\n",
       "    <tr>\n",
       "      <th>23</th>\n",
       "      <td>temporary</td>\n",
       "      <td>Beans</td>\n",
       "      <td>1929969.0</td>\n",
       "    </tr>\n",
       "    <tr>\n",
       "      <th>24</th>\n",
       "      <td>temporary</td>\n",
       "      <td>Cassava</td>\n",
       "      <td>8735629.0</td>\n",
       "    </tr>\n",
       "    <tr>\n",
       "      <th>26</th>\n",
       "      <td>temporary</td>\n",
       "      <td>Corn</td>\n",
       "      <td>7892428.0</td>\n",
       "    </tr>\n",
       "    <tr>\n",
       "      <th>28</th>\n",
       "      <td>temporary</td>\n",
       "      <td>Others</td>\n",
       "      <td>837624.0</td>\n",
       "    </tr>\n",
       "    <tr>\n",
       "      <th>30</th>\n",
       "      <td>temporary</td>\n",
       "      <td>Rice</td>\n",
       "      <td>5628804.0</td>\n",
       "    </tr>\n",
       "    <tr>\n",
       "      <th>31</th>\n",
       "      <td>temporary</td>\n",
       "      <td>Sorghum</td>\n",
       "      <td>31045.0</td>\n",
       "    </tr>\n",
       "    <tr>\n",
       "      <th>32</th>\n",
       "      <td>temporary</td>\n",
       "      <td>Soy</td>\n",
       "      <td>2409788.0</td>\n",
       "    </tr>\n",
       "  </tbody>\n",
       "</table>\n",
       "</div>"
      ],
      "text/plain": [
       "   product_type  product  destinated_area\n",
       "23    temporary    Beans        1929969.0\n",
       "24    temporary  Cassava        8735629.0\n",
       "26    temporary     Corn        7892428.0\n",
       "28    temporary   Others         837624.0\n",
       "30    temporary     Rice        5628804.0\n",
       "31    temporary  Sorghum          31045.0\n",
       "32    temporary      Soy        2409788.0"
      ]
     },
     "execution_count": 35,
     "metadata": {},
     "output_type": "execute_result"
    }
   ],
   "source": [
    "temporary"
   ]
  }
 ],
 "metadata": {
  "colab": {
   "collapsed_sections": [],
   "name": "inicio.ipynb",
   "provenance": []
  },
  "kernelspec": {
   "display_name": "Python 3",
   "language": "python",
   "name": "python3"
  },
  "language_info": {
   "codemirror_mode": {
    "name": "ipython",
    "version": 3
   },
   "file_extension": ".py",
   "mimetype": "text/x-python",
   "name": "python",
   "nbconvert_exporter": "python",
   "pygments_lexer": "ipython3",
   "version": "3.8.3"
  }
 },
 "nbformat": 4,
 "nbformat_minor": 1
}
